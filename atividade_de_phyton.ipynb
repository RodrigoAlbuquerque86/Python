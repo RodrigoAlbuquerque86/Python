{
  "nbformat": 4,
  "nbformat_minor": 0,
  "metadata": {
    "colab": {
      "provenance": []
    },
    "kernelspec": {
      "name": "python3",
      "display_name": "Python 3"
    },
    "language_info": {
      "name": "python"
    }
  },
  "cells": [
    {
      "cell_type": "code",
      "execution_count": 11,
      "metadata": {
        "colab": {
          "base_uri": "https://localhost:8080/"
        },
        "id": "qmvLK2as9q2Q",
        "outputId": "691bb2c3-f5ca-41f7-bb1f-d320e1bb788c"
      },
      "outputs": [
        {
          "output_type": "stream",
          "name": "stdout",
          "text": [
            "11\n",
            "9\n",
            "20\n",
            "3.3333333333333335\n",
            "3\n",
            "6\n",
            "1\n"
          ]
        }
      ],
      "source": [
        "# 3. Operadores Aritmeticos - Python\n",
        "c = 10 + 1\n",
        "print(c)\n",
        "\n",
        "c = 10 - 1\n",
        "print(c)\n",
        "\n",
        "c = 4 * 5\n",
        "print(c)\n",
        "\n",
        "c = 10 / 3\n",
        "print(c)\n",
        "\n",
        "c = 10 // 3\n",
        "print(c)\n",
        "\n",
        "c = 2 * 3\n",
        "print(c)\n",
        "\n",
        "c = 13 % 2\n",
        "print(c)"
      ]
    },
    {
      "cell_type": "code",
      "source": [
        "# 4. Operadores Relacionais Simples.\n",
        "notaA = 7\n",
        "notaB = 5\n",
        "notaA > notaB\n",
        "\n",
        "notaA = 10\n",
        "notaB = 15\n",
        "\n",
        "notaA < notaB\n"
      ],
      "metadata": {
        "colab": {
          "base_uri": "https://localhost:8080/"
        },
        "id": "w5323W5m_XHg",
        "outputId": "424909d8-b76f-46cd-bbf6-267715d9889e"
      },
      "execution_count": 10,
      "outputs": [
        {
          "output_type": "execute_result",
          "data": {
            "text/plain": [
              "True"
            ]
          },
          "metadata": {},
          "execution_count": 10
        }
      ]
    },
    {
      "cell_type": "code",
      "source": [
        "# 5. Operadores Relacionais Compostos.\n",
        "na = 10\n",
        "nb = 6\n",
        "nc = 8\n",
        "nd = 9\n",
        "na >= nb\n",
        "7 >= 6\n",
        "print('Estudante aprovado')\n",
        "7 >= 10\n",
        "a = 10\n",
        "b = 10\n",
        "a != b\n",
        "\n",
        "False"
      ],
      "metadata": {
        "id": "Sc8FFpmzAGNZ"
      },
      "execution_count": null,
      "outputs": []
    },
    {
      "cell_type": "code",
      "source": [
        "nome = input('Digite seu nome: ')\n",
        "print(f'Seu nome é {nome}.')"
      ],
      "metadata": {
        "colab": {
          "base_uri": "https://localhost:8080/"
        },
        "id": "pd9ZCHRMAyPP",
        "outputId": "2d78ff1d-0013-41ec-ab82-7096fe4f41c6"
      },
      "execution_count": 12,
      "outputs": [
        {
          "output_type": "stream",
          "name": "stdout",
          "text": [
            "Digite seu nome: Rodrigo\n",
            "Seu nome é Rodrigo.\n"
          ]
        }
      ]
    },
    {
      "cell_type": "code",
      "source": [
        "idade = int(input('Digite sua idade: '))\n",
        "print(f'Você tem {idade} anos e','Meses' )\n",
        "print(type(idade))"
      ],
      "metadata": {
        "colab": {
          "base_uri": "https://localhost:8080/"
        },
        "id": "fhts2PSGA-u_",
        "outputId": "9c68e932-4137-43a7-8c35-dc265afad8b6"
      },
      "execution_count": 8,
      "outputs": [
        {
          "output_type": "stream",
          "name": "stdout",
          "text": [
            "Digite sua idade: 37\n",
            "Você tem 37 anos e Meses\n",
            "<class 'int'>\n"
          ]
        }
      ]
    },
    {
      "cell_type": "code",
      "source": [
        "peso = float(input('Digite seu peso: '))\n",
        "print(f'Você pesa {peso}KGs')\n",
        "print(type(peso))"
      ],
      "metadata": {
        "colab": {
          "base_uri": "https://localhost:8080/"
        },
        "id": "KWR6voElBCQv",
        "outputId": "1fba2888-8041-42cb-f0bc-67b8fb9bcb50"
      },
      "execution_count": 7,
      "outputs": [
        {
          "output_type": "stream",
          "name": "stdout",
          "text": [
            "Digite seu peso: 80\n",
            "Você pesa 80.0KGs\n",
            "<class 'float'>\n"
          ]
        }
      ]
    },
    {
      "cell_type": "code",
      "source": [
        "numero = int(input('Digite um número:'))\n",
        "if numero % 2 == 0:\n",
        "  print(f'O número {numero} é par.')\n",
        "else:\n",
        "  print(f'O número {numero} é impar.')"
      ],
      "metadata": {
        "colab": {
          "base_uri": "https://localhost:8080/"
        },
        "id": "MlI45KjzBTKX",
        "outputId": "cfda78b6-6679-42d8-edbd-b49fe0a6b435"
      },
      "execution_count": 6,
      "outputs": [
        {
          "output_type": "stream",
          "name": "stdout",
          "text": [
            "Digite um número:15\n",
            "O número 15 é impar.\n"
          ]
        }
      ]
    },
    {
      "cell_type": "code",
      "source": [
        "numero = float(input('Digite um número:'))\n",
        "if numero > 0:\n",
        "  print('Este número é positivo.')\n",
        "\n",
        "elif numero == 0:\n",
        "  print('Esse número é neutro.')\n",
        "\n",
        "else:\n",
        "  print('Esse número é negativo')"
      ],
      "metadata": {
        "colab": {
          "base_uri": "https://localhost:8080/"
        },
        "id": "a3mOPP89CrB0",
        "outputId": "aeb70277-bb07-4484-bc05-0acbb54af7fd"
      },
      "execution_count": 14,
      "outputs": [
        {
          "output_type": "stream",
          "name": "stdout",
          "text": [
            "Digite um número:50\n",
            "Este número é positivo.\n"
          ]
        }
      ]
    },
    {
      "cell_type": "code",
      "source": [
        "resposta = int(input('Qual sua idade:'))\n",
        "if resposta >= 18 and resposta <= 65:\n",
        "  print('Você é obrigado a votar!')\n",
        "else:\n",
        "  print('Você não é obrigado a votar!')"
      ],
      "metadata": {
        "colab": {
          "base_uri": "https://localhost:8080/"
        },
        "id": "JndFEEXWDzle",
        "outputId": "e09a1db2-fadc-40b4-8301-44654264aebd"
      },
      "execution_count": 15,
      "outputs": [
        {
          "output_type": "stream",
          "name": "stdout",
          "text": [
            "Qual sua idade:37\n",
            "Você é obrigado a votar!\n"
          ]
        }
      ]
    },
    {
      "cell_type": "code",
      "source": [
        "print('1. Idoso')\n",
        "print('2. Gestante')\n",
        "print('3. Cadeirante')\n",
        "print('4. Nenhum destes')\n",
        "\n",
        "resposta = int(input('Você é:'))\n",
        "if (resposta == 1) or (resposta == 2) or (resposta == 3):\n",
        "  print('Você tem direito a fila prioritária.')\n",
        "else:\n",
        "  print('Você não tem direito a nada.')"
      ],
      "metadata": {
        "colab": {
          "base_uri": "https://localhost:8080/"
        },
        "id": "apnt11HPEV6n",
        "outputId": "08edb44f-64fd-479f-fcca-7f55ce3f242a"
      },
      "execution_count": 16,
      "outputs": [
        {
          "output_type": "stream",
          "name": "stdout",
          "text": [
            "1. Idoso\n",
            "2. Gestante\n",
            "3. Cadeirante\n",
            "4. Nenhum destes\n",
            "Você é:1\n",
            "Você tem direito a fila prioritária.\n"
          ]
        }
      ]
    }
  ]
}