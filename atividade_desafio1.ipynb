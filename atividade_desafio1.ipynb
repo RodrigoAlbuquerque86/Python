{
  "nbformat": 4,
  "nbformat_minor": 0,
  "metadata": {
    "colab": {
      "provenance": [],
      "authorship_tag": "ABX9TyMlmztVqt4OMOKaejx8crbk",
      "include_colab_link": true
    },
    "kernelspec": {
      "name": "python3",
      "display_name": "Python 3"
    },
    "language_info": {
      "name": "python"
    }
  },
  "cells": [
    {
      "cell_type": "markdown",
      "metadata": {
        "id": "view-in-github",
        "colab_type": "text"
      },
      "source": [
        "<a href=\"https://colab.research.google.com/github/RodrigoAlbuquerque86/Python/blob/main/atividade_desafio1.ipynb\" target=\"_parent\"><img src=\"https://colab.research.google.com/assets/colab-badge.svg\" alt=\"Open In Colab\"/></a>"
      ]
    },
    {
      "cell_type": "code",
      "execution_count": 1,
      "metadata": {
        "colab": {
          "base_uri": "https://localhost:8080/"
        },
        "id": "q9_rqVaVlh64",
        "outputId": "5121d3e0-f834-48d4-800c-6821d34eddf1"
      },
      "outputs": [
        {
          "output_type": "stream",
          "name": "stdout",
          "text": [
            "Olá ETE CÍCERO DIAS\n"
          ]
        }
      ],
      "source": [
        "#1. Faça um CÓDIGO que mostre a mensagem \"Olá ETE CÍCERO DIAS!\" na tela.\n",
        "print('Olá ETE CÍCERO DIAS')"
      ]
    },
    {
      "cell_type": "code",
      "source": [
        "#2. Faça um CÓDIGO que peça um número e então mostre a mensagem O número informado foi [número].\n",
        "numero = input('Digite o número desejado:')\n",
        "print('O número informado foi', (numero))"
      ],
      "metadata": {
        "colab": {
          "base_uri": "https://localhost:8080/"
        },
        "id": "55ltJsujnPqO",
        "outputId": "f09ca240-f8f8-4a6e-cbc7-ce27e5623b98"
      },
      "execution_count": 7,
      "outputs": [
        {
          "output_type": "stream",
          "name": "stdout",
          "text": [
            "Digite o número desejado:7\n",
            "O número informado foi 7\n"
          ]
        }
      ]
    },
    {
      "cell_type": "code",
      "source": [
        "#3. Faça um CÓDIGO que peça dois números e imprima a soma.\n",
        "num1 = int(input('Primeiro número:'))\n",
        "num2 = int(input('Segundo número:'))\n",
        "print('A soma é', num1+num2)"
      ],
      "metadata": {
        "colab": {
          "base_uri": "https://localhost:8080/"
        },
        "id": "NJ-TDl_SoL0O",
        "outputId": "a4a62c33-b5c3-497e-f3c9-15698ff962e0"
      },
      "execution_count": 8,
      "outputs": [
        {
          "output_type": "stream",
          "name": "stdout",
          "text": [
            "Primeiro número:2\n",
            "Segundo número:3\n",
            "A soma é 5\n"
          ]
        }
      ]
    },
    {
      "cell_type": "code",
      "source": [
        "#4. Faça um CÓDIGO que peça as 4 notas bimestrais e mostre a média final.\n",
        "nota1 = float(input('Digite a primeira nota:'))\n",
        "nota2 = float(input('Digite a segunda nota:'))\n",
        "nota3 = float(input('Digite a terceira nota:'))\n",
        "nota4 = float(input('Digite a quarta nota:'))\n",
        "\n",
        "mediafinal = (nota1+nota2+nota3+nota4) / 4\n",
        "\n",
        "print('Média final:', mediafinal)"
      ],
      "metadata": {
        "colab": {
          "base_uri": "https://localhost:8080/"
        },
        "id": "Ikq_6-8spVmZ",
        "outputId": "25b74d08-b51a-41b7-fe39-84077f67ac29"
      },
      "execution_count": 13,
      "outputs": [
        {
          "output_type": "stream",
          "name": "stdout",
          "text": [
            "Digite a primeira nota:7\n",
            "Digite a segunda nota:9\n",
            "Digite a terceira nota:5\n",
            "Digite a quarta nota:6\n",
            "Média final: 6.75\n"
          ]
        }
      ]
    },
    {
      "cell_type": "code",
      "source": [
        "#5. Faça um CÓDIGO que converta metros para centímetros.\n",
        "metro = float(input('Informe o valor em metros a ser convertido:'))\n",
        "resultado = metro*100\n",
        "print('O resultado em centímetro é:', resultado)"
      ],
      "metadata": {
        "colab": {
          "base_uri": "https://localhost:8080/"
        },
        "id": "2vmLebESq2Ik",
        "outputId": "2c027717-e647-49ea-cbbf-dbf3221bfe5d"
      },
      "execution_count": 15,
      "outputs": [
        {
          "output_type": "stream",
          "name": "stdout",
          "text": [
            "Informe o valor em metros a ser convertido:25\n",
            "O resultado em centímetro é: 2500.0\n"
          ]
        }
      ]
    },
    {
      "cell_type": "code",
      "source": [
        "#6. Faça um CÓDIGO que peça o raio de um círculo, calcule e mostre sua área.\n",
        "raio = float(input('Informe o raio do círculo:'))\n",
        "area = 3.14*raio*raio\n",
        "print('A área do círculo é:', area)"
      ],
      "metadata": {
        "colab": {
          "base_uri": "https://localhost:8080/"
        },
        "id": "B14lyYFYssIv",
        "outputId": "0bcecbe8-91da-49e6-92c0-800d35ce3a36"
      },
      "execution_count": 17,
      "outputs": [
        {
          "output_type": "stream",
          "name": "stdout",
          "text": [
            "Informe o raio do círculo:2\n",
            "A área do círculo é: 12.56\n"
          ]
        }
      ]
    },
    {
      "cell_type": "code",
      "source": [
        "#7. Faça um CÓDIGO que calcule a área de um quadrado, em seguida mostre o dobro desta área para o usuário.\n",
        "lado = float(input('Informe o lado do quadrado:'))\n",
        "area = lado*lado\n",
        "areadobro = area*2\n",
        "print('A área do quadrado é:', area)\n",
        "print('O dobro da área deste quadrado é:', areadobro)"
      ],
      "metadata": {
        "colab": {
          "base_uri": "https://localhost:8080/"
        },
        "id": "GC2IV4Ejt_V8",
        "outputId": "f8efb7cd-89b6-454e-85f2-4eeb5c82e9f2"
      },
      "execution_count": 18,
      "outputs": [
        {
          "output_type": "stream",
          "name": "stdout",
          "text": [
            "Informe o lado do quadrado:4\n",
            "A área do quadrado é: 16.0\n",
            "O dobro da área deste quadrado é: 32.0\n"
          ]
        }
      ]
    },
    {
      "cell_type": "code",
      "source": [
        "#8. Faça um CÓDIGO que pergunte quanto você ganha por hora e o número de horas trabalhadas no mês. Calcule e mostre o total do seu salário no referido mês.\n",
        "ganho=float(input('Quanto você ganha por hora:'))\n",
        "hora=int(input('Quantas horas trabalhadas por mês:'))\n",
        "print('Seu salário no referido mês é: {}'.format(ganho*hora))"
      ],
      "metadata": {
        "colab": {
          "base_uri": "https://localhost:8080/"
        },
        "id": "CA1dN6sZvBUL",
        "outputId": "b736dff4-9d5d-4456-db3e-4c28da75c450"
      },
      "execution_count": 20,
      "outputs": [
        {
          "output_type": "stream",
          "name": "stdout",
          "text": [
            "Quanto você ganha por hora:50\n",
            "Quantas horas trabalhadas por mês:44\n",
            "Seu salário no referido mês é: 2200.0\n"
          ]
        }
      ]
    },
    {
      "cell_type": "code",
      "source": [
        "#9. Faça um CÓDIGO que peça um valor e mostre na tela se o valor é positivo ou negativo.\n",
        "valor = float(input(\"Digite um valor: \"))\n",
        "if valor > 0:\n",
        "    print(\"O valor é positivo.\")\n",
        "elif valor < 0:\n",
        "    print(\"O valor é negativo.\")\n",
        "else:\n",
        "    print(\"O valor é igual a zero.\")"
      ],
      "metadata": {
        "colab": {
          "base_uri": "https://localhost:8080/"
        },
        "id": "CXmRe0s9wQCn",
        "outputId": "637588eb-3e0b-444d-ceff-b5762178ca9a"
      },
      "execution_count": 22,
      "outputs": [
        {
          "output_type": "stream",
          "name": "stdout",
          "text": [
            "Digite um valor: 37\n",
            "O valor é positivo.\n"
          ]
        }
      ]
    },
    {
      "cell_type": "code",
      "source": [
        "#10. Faça um CÓDIGO que verifique se uma letra digitada é \"F\" ou \"M\". Conforme a letra escrever: F - Feminino, M - Masculino, Sexo Inválido.\n",
        "letra = input(\"Digite uma letra (F para Feminino, M para Masculino): \")\n",
        "if letra == \"F\" or letra == \"f\":\n",
        "    print(\"Feminino\")\n",
        "elif letra == \"M\" or letra == \"m\":\n",
        "    print(\"Masculino\")\n",
        "else:\n",
        "    print(\"Sexo Inválido\")"
      ],
      "metadata": {
        "colab": {
          "base_uri": "https://localhost:8080/"
        },
        "id": "CIBLNeHBwle_",
        "outputId": "67392118-3808-4cb4-fb87-9188cce5fc75"
      },
      "execution_count": 21,
      "outputs": [
        {
          "output_type": "stream",
          "name": "stdout",
          "text": [
            "Digite uma letra (F para Feminino, M para Masculino): M\n",
            "Masculino\n"
          ]
        }
      ]
    }
  ]
}